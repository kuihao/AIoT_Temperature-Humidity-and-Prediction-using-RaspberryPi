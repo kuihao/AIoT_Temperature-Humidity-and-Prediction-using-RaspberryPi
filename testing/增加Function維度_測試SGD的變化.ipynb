{
  "nbformat": 4,
  "nbformat_minor": 0,
  "metadata": {
    "colab": {
      "name": "增加Function維度_測試SGD的變化.ipynb",
      "provenance": [],
      "collapsed_sections": [],
      "authorship_tag": "ABX9TyPMXYAgusTgL5Y9DouXCacQ",
      "include_colab_link": true
    },
    "kernelspec": {
      "name": "python3",
      "display_name": "Python 3"
    }
  },
  "cells": [
    {
      "cell_type": "markdown",
      "metadata": {
        "id": "view-in-github",
        "colab_type": "text"
      },
      "source": [
        "<a href=\"https://colab.research.google.com/github/kuihao/AIoT_Temperature-Humidity-and-Prediction-using-RaspberryPi/blob/master/testing/%E5%A2%9E%E5%8A%A0Function%E7%B6%AD%E5%BA%A6_%E6%B8%AC%E8%A9%A6SGD%E7%9A%84%E8%AE%8A%E5%8C%96.ipynb\" target=\"_parent\"><img src=\"https://colab.research.google.com/assets/colab-badge.svg\" alt=\"Open In Colab\"/></a>"
      ]
    },
    {
      "cell_type": "code",
      "metadata": {
        "id": "-j57luLqDpoX"
      },
      "source": [
        "'''\n",
        "【使用AdaGrad】\n",
        "課堂測試數據 Demo：https://youtu.be/1UqCjFQiiy0\n",
        "程式碼參考：https://colab.research.google.com/drive/1l_2jQ2t6FEPwTB6G7kiIFNOLRJOFU8LF?usp=sharing#scrollTo=TOAvOQ09fffp\n",
        "程式碼破譯間接參考：https://ithelp.ithome.com.tw/articles/10225858\n",
        "'''\n",
        "# step 1. 引入 NumPy 與 Matplotlib\n",
        "import matplotlib.pyplot as plt\n",
        "import numpy as np\n",
        "\n",
        "# step 2. 建立數值陣列\n",
        "# x_data = [n] # 就是 Model Function 的 Input data\n",
        "# y_data = [n] # 就是 Model Function 的 Output data (監督式學習就是 Ground Truth、測試時的輸出預測值)\n",
        "x_data = [ 338., 333., 328., 207., 226., 25., 179., 60., 208., 606.]\n",
        "y_data = [ 640., 633., 619., 393., 428., 27., 193., 66., 226., 1591.]\n",
        "\n",
        "# step 2.5. 假設模型 例如：y_data = w_2 * x_data**2 + w * x_data + b\n",
        "# step 3. 建立網格資料 \n",
        "# 繪製的「彩色的等高線圖就是 Loss Function Space」，兩個維度分別代表參數 w 與 b\n",
        "# 以下的 x, y 並不是指訓練資料，而是 Linear Model 的兩個參數 (w, b) 的自行設定的可能範圍\n",
        "# 分別建立兩個一維等差陣列 x 與 y，其範圍是 # 到 #，每隔 # 產生一個值。\n",
        "x = np.arange(-200,-100,1) #bias shape:(100,) \n",
        "y = np.arange(-5,5,0.1) #weight shape:(100,) \n",
        "# 接著，我們建立了一個二維陣列 Z 來儲存每一個 X[n](bias), Y[n](weight) 位置上的「損失函數值」\n",
        "# 注意陣列 Z 的存取，根據 pyplot 定義的參數，它會直接將矩陣內容繪製在畫布上，\n",
        "# 因此 x, y 座標跟矩陣儲存示正好相反的 (y對應矩陣的列, x對應矩陣的行)， Z[y座標][x座標]\n",
        "# 損失函數 L 為 L(w2, w, b) = ((y_data[n] - (w2*x_data[n]**2 + w*x_data[n] + b) )**2)/n\n",
        "# [!!!]以下等高線繪圖維持在一次式\n",
        "Z =  np.zeros((len(x), len(y)))\n",
        "X, Y = np.meshgrid(x, y)\n",
        "for i in range(len(x)):\n",
        "    for j in range(len(y)):\n",
        "        # Z 矩陣相當於整張圖，每個 Entry 存放座標 (b, w) 代入損失函數的 Loss 值\n",
        "        b = x[i]\n",
        "        w = y[j]\n",
        "        Z[j][i] = 0\n",
        "        # 將所有訓練資料帶入計算該座標 (b, w)的 Loss 值\n",
        "        for n in range(len(x_data)):\n",
        "            Z[j][i] = Z[j][i] +  (y_data[n] - (w*x_data[n] + b))**2\n",
        "        Z[j][i] = np.sqrt(Z[j][i]/len(x_data))"
      ],
      "execution_count": 161,
      "outputs": []
    },
    {
      "cell_type": "code",
      "metadata": {
        "id": "cvhIBgJ1D7l3"
      },
      "source": [
        "# step 4. 決定參數\n",
        "# 這裡決定 w 與 b 的起始點（從哪裡開始走）、learning rate（每一步走多遠）、\n",
        "# iteration 次數（我們要走多少步）、\n",
        "# 以及最後我們用兩個陣列，來分別儲存每一步我的走到的位置\n",
        "# 決定 w 與 b 的起始點\n",
        "# SGD(Stochastic Gradient Descent, 隨機梯度下降法) 的技巧：\n",
        "# 只針對 SSE (Sum Square Error, 誤差平方和) 進行微分，\n",
        "# 而非整個損失函式之 MSE (Mean Squared Error) 或 RMSE (Root Mean Square Error) \n",
        "w2 = 0\n",
        "w = 1\n",
        "b = -180\n",
        "\n",
        "# 決定 learning rate\n",
        "lr = 1 # 0.0000001 \n",
        "\n",
        "# 決定 iteration 的次數\n",
        "iteration = 100000\n",
        "\n",
        "# 給予 b, w 各自不同的 learning rate\n",
        "w2_lr = 0.0\n",
        "w_lr = 0.0\n",
        "b_lr = 0.0"
      ],
      "execution_count": 181,
      "outputs": []
    },
    {
      "cell_type": "code",
      "metadata": {
        "id": "tPHHpkFVG2T7",
        "outputId": "22e57a5b-1d27-4341-f5a7-55d5b9a400e9",
        "colab": {
          "base_uri": "https://localhost:8080/",
          "height": 217
        }
      },
      "source": [
        "# 儲存每一次 iterate 後的結果\n",
        "w2_history.clear()\n",
        "w_history.clear()\n",
        "b_history.clear()\n",
        "w2_history = [w2]\n",
        "w_history = [w]\n",
        "b_history = [b]\n",
        "\n",
        "# step 5. 執行梯度下降\n",
        "# 執行梯度下降\n",
        "for i in range(iteration):\n",
        "    w2_grad = 0.0\n",
        "    w_grad = 0.0\n",
        "    b_grad = 0.0\n",
        "    \n",
        "    # 計算損失函數分別對 w 和 b 的偏微分 (計算梯度決定參數的調整變量)\n",
        "    # 把每組資料計算微分之後加總起來\n",
        "    for n in range(len(x_data)):\n",
        "        w_grad = 0.0\n",
        "        w_grad = w_grad  + 2.0*(y_data[n] - (w*x_data[n] + b))*x_data[n]*(-1)\n",
        "        b_grad = b_grad  + 2.0*(y_data[n] - (w*x_data[n] + b))*(-1.0)\n",
        "        \n",
        "    # v2 - AdaGrad: learning rate 加上了梯度平方\n",
        "    b_lr = b_lr + b_grad**2\n",
        "    w_lr = w_lr + w_grad**2\n",
        "\n",
        "    # 更新 w, b 位置 \n",
        "    # w = w - lr * w_grad\n",
        "    # b = b - lr * b_grad\n",
        "    # v2 - ada\n",
        "    b = b - lr/np.sqrt(b_lr) * b_grad \n",
        "    w = w - lr/np.sqrt(w_lr) * w_grad\n",
        "    \n",
        "    # 紀錄 w, b 的位置 \n",
        "    w_history.append(w)\n",
        "    b_history.append(b)\n",
        "\n",
        "    #-----文字紀錄 Loss(Error)值-----#\n",
        "    loss = np.sqrt(np.mean(np.power(( np.dot(x_data, w)+b ) - y_data, 2)))\n",
        "    if (i%10000 == 0)|(i == (iteration - 1)):\n",
        "      print('Iteration = ', i, ' Loss = ', loss)\n",
        "print(len(w_history))"
      ],
      "execution_count": 182,
      "outputs": [
        {
          "output_type": "stream",
          "text": [
            "Iteration =  0  Loss =  215.07208094032103\n",
            "Iteration =  10000  Loss =  100.96372180567884\n",
            "Iteration =  20000  Loss =  100.96372115561947\n",
            "Iteration =  30000  Loss =  100.96372115561641\n",
            "Iteration =  40000  Loss =  100.96372115561644\n",
            "Iteration =  50000  Loss =  100.96372115561644\n",
            "Iteration =  60000  Loss =  100.96372115561644\n",
            "Iteration =  70000  Loss =  100.96372115561644\n",
            "Iteration =  80000  Loss =  100.96372115561644\n",
            "Iteration =  90000  Loss =  100.96372115561644\n",
            "Iteration =  99999  Loss =  100.96372115561644\n",
            "100001\n"
          ],
          "name": "stdout"
        }
      ]
    },
    {
      "cell_type": "code",
      "metadata": {
        "id": "F7QBeRUmD0pj",
        "cellView": "both"
      },
      "source": [
        "# [!!!]以下等高線繪圖維持在一次式\n",
        "# strp 6. 繪圖\n",
        "# 建立等高線圖\n",
        "plt.contourf(x,y,Z, 25, alpha=0.5, cmap=plt.get_cmap('jet')) # Contour line Region = 50\n",
        "# 繪製目標點(隱藏的，已由公式解證明此為一次函數的最佳解: loss=100.96372115561644)\n",
        "# plt.plot([-188.4], [2.67], 'x', ms=12, markeredgewidth=3, color='red')\n",
        "# 繪製起點\n",
        "#plt.plot([b_history[0]], [w_history[0]], 's', ms=12, markeredgewidth=3, color='orange')   # starting parameter\n",
        "# 繪製 w,b iteration 的結果\n",
        "plt.plot(b_history, w_history, 'o-', ms=3, lw=1.5, color='black') # ms = markersize, lw = linewidth \n",
        "# 繪製結束時的參數\n",
        "plt.plot([b_history[-1]], [w_history[-1]], 'x', ms=12, markeredgewidth=3, color='orange')   # ending parameter\n",
        "# 定義圖形範圍\n",
        "plt.xlim(-200,-100)\n",
        "plt.ylim(-5,5) # plt.axis([-200, -100, -5, 5])\n",
        "# 繪製 x 軸與 y 軸的標籤\n",
        "plt.xlabel(r'$b$', fontsize=16)\n",
        "plt.ylabel(r'$w$', fontsize=16)\n",
        "# 標上等高線數值\n",
        "C = plt.contour(x, y, Z, 10, colors='black', linewidths=0.05)\n",
        "plt.clabel(C, inline=True, fontsize=10)\n",
        "\n",
        "loss_now = np.sqrt(np.sum(np.power(( np.dot(x_data, w)+b ) - y_data, 2))/len(x_data))\n",
        "print( 'loss(error) = ', loss_now, ' NOW' )\n",
        "plt.show"
      ],
      "execution_count": null,
      "outputs": []
    },
    {
      "cell_type": "code",
      "metadata": {
        "id": "_qexbHgINyDo",
        "outputId": "8c8d5950-c559-4dbf-fb24-cdfb7fe75a44",
        "colab": {
          "base_uri": "https://localhost:8080/",
          "height": 281
        }
      },
      "source": [
        "# 畫出訓練資料與 Linear Function 的關係圖\n",
        "fig = plt.figure()\n",
        "paint = fig.add_subplot()\n",
        "plt.plot(x_data, y_data, 'o', c='blue')\n",
        "x_pos = np.linspace(-10, 630, 640)\n",
        "y_pos = w2_history[-1]*(x_pos**2) + w_history[-1]*x_pos + b_history[-1]\n",
        "plt.plot(x_pos, y_pos)"
      ],
      "execution_count": 183,
      "outputs": [
        {
          "output_type": "execute_result",
          "data": {
            "text/plain": [
              "[<matplotlib.lines.Line2D at 0x7ffb33d05da0>]"
            ]
          },
          "metadata": {
            "tags": []
          },
          "execution_count": 183
        },
        {
          "output_type": "display_data",
          "data": {
            "image/png": "[encoded data removed]",
            "text/plain": [
              "<Figure size 432x288 with 1 Axes>"
            ]
          },
          "metadata": {
            "tags": [],
            "needs_background": "light"
          }
        }
      ]
    },
    {
      "cell_type": "code",
      "metadata": {
        "id": "xngBm9EZXEKV",
        "outputId": "9fa12ea7-5a79-41dc-fe54-0f1f0701cd0a",
        "colab": {
          "base_uri": "https://localhost:8080/",
          "height": 50
        }
      },
      "source": [
        "def T(A):\n",
        "  return np.transpose(A)\n",
        "a = np.array([[1., 2., 3.]])\n",
        "a = a.reshape(1,3)\n",
        "print( np.sqrt(a**2) )\n",
        "print( np.dot(a, T(a)) )\n",
        "#print( np.matmul( a, [1, 1, 1] ) )"
      ],
      "execution_count": 160,
      "outputs": [
        {
          "output_type": "stream",
          "text": [
            "[[1. 2. 3.]]\n",
            "[[14.]]\n"
          ],
          "name": "stdout"
        }
      ]
    }
  ]
}